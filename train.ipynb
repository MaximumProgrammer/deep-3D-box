{
 "cells": [
  {
   "cell_type": "code",
   "execution_count": 1,
   "metadata": {},
   "outputs": [],
   "source": [
    "import reader\n",
    "import utils\n",
    "import visualization as vis\n",
    "from PIL import Image\n",
    "import numpy as np\n",
    "import cv2\n",
    "import datagen\n",
    "import matplotlib.pyplot as plt"
   ]
  },
  {
   "cell_type": "code",
   "execution_count": 2,
   "metadata": {},
   "outputs": [],
   "source": [
    "# Read data\n",
    "kitti_reader = reader.KittiReader()"
   ]
  },
  {
   "cell_type": "code",
   "execution_count": 3,
   "metadata": {},
   "outputs": [],
   "source": [
    "gen = datagen.BatchGenerator(kitti_reader, jitter = True, mode = 'train')"
   ]
  },
  {
   "cell_type": "code",
   "execution_count": 4,
   "metadata": {},
   "outputs": [],
   "source": [
    "x, y = gen.__getitem__(1)"
   ]
  },
  {
   "cell_type": "code",
   "execution_count": 6,
   "metadata": {},
   "outputs": [
    {
     "name": "stdout",
     "output_type": "stream",
     "text": [
      "dims : [1.51 1.59 4.28]\n",
      "orientation :\n",
      " [[0.12884449 0.99166481]\n",
      " [0.         0.        ]]\n",
      "confidence :\n",
      " [1. 0.]\n"
     ]
    },
    {
     "data": {
      "image/png": "[encoded data removed]",
      "text/plain": [
       "<PIL.Image.Image image mode=RGB size=224x224 at 0x7FC86F3AF080>"
      ]
     },
     "execution_count": 6,
     "metadata": {},
     "output_type": "execute_result"
    }
   ],
   "source": [
    "j = 3\n",
    "print(\"dims :\", y[0][j])\n",
    "print(\"orientation :\\n\", y[1][j])\n",
    "print(\"confidence :\\n\", y[2][j])\n",
    "Image.fromarray(x[j])"
   ]
  },
  {
   "cell_type": "code",
   "execution_count": 10,
   "metadata": {},
   "outputs": [
    {
     "data": {
      "text/plain": [
       "82.59717482776004"
      ]
     },
     "execution_count": 10,
     "metadata": {},
     "output_type": "execute_result"
    }
   ],
   "source": [
    "180 * np.arcsin(y[1][j][0, :])[1] / np.pi"
   ]
  },
  {
   "cell_type": "code",
   "execution_count": null,
   "metadata": {},
   "outputs": [],
   "source": []
  },
  {
   "cell_type": "code",
   "execution_count": null,
   "metadata": {},
   "outputs": [],
   "source": [
    "# Visualize\n",
    "# j = -202\n",
    "# image_path = kitti_reader.image_paths[j]\n",
    "# calib_path = kitti_reader.calibration_paths[j]\n",
    "# K = reader.KittiReader.read_intrinsic_matrix(calib_path)\n",
    "# image_data = list(filter(lambda rec: rec['image'] == image_path, kitti_reader.image_data))\n",
    "# img = cv2.imread(image_path)\n",
    "# for obj in image_data:\n",
    "#     cv2.rectangle(img, (obj['xmin'], obj['ymin']), (obj['xmax'], obj['ymax']), (255, 0, 0), 4)\n",
    "#     coords_3d = utils.compute_3d_coordinates(K,\n",
    "#                                         obj['trans'], \n",
    "#                                         obj['alpha'], \n",
    "#                                         obj['dims'], \n",
    "#                                         (obj['ymin'], obj['xmin'], obj['ymax'], obj['xmax']))\n",
    "#     coords_2d = utils.project_2d(K, coords_3d)\n",
    "#     vis.draw_3d_box(img, coords_2d)\n",
    "\n",
    "# img = cv2.cvtColor(img, cv2.COLOR_BGR2RGB)\n",
    "# Image.fromarray(img)"
   ]
  }
 ],
 "metadata": {
  "kernelspec": {
   "display_name": "Python 3",
   "language": "python",
   "name": "python3"
  },
  "language_info": {
   "codemirror_mode": {
    "name": "ipython",
    "version": 3
   },
   "file_extension": ".py",
   "mimetype": "text/x-python",
   "name": "python",
   "nbconvert_exporter": "python",
   "pygments_lexer": "ipython3",
   "version": "3.7.0"
  }
 },
 "nbformat": 4,
 "nbformat_minor": 2
}
